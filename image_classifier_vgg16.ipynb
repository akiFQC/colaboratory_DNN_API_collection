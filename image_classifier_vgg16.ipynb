{
  "nbformat": 4,
  "nbformat_minor": 0,
  "metadata": {
    "colab": {
      "name": "image_classifier_vgg16.ipynb",
      "version": "0.3.2",
      "provenance": [],
      "collapsed_sections": [],
      "toc_visible": true,
      "include_colab_link": true
    },
    "kernelspec": {
      "name": "python3",
      "display_name": "Python 3"
    },
    "accelerator": "GPU"
  },
  "cells": [
    {
      "cell_type": "markdown",
      "metadata": {
        "id": "view-in-github",
        "colab_type": "text"
      },
      "source": [
        "<a href=\"https://colab.research.google.com/github/akiFQC/colaboratry_DNN_API_collection/blob/master/image_classifier_vgg16.ipynb\" target=\"_parent\"><img src=\"https://colab.research.google.com/assets/colab-badge.svg\" alt=\"Open In Colab\"/></a>"
      ]
    },
    {
      "cell_type": "markdown",
      "metadata": {
        "id": "lmkS125lOjil",
        "colab_type": "text"
      },
      "source": [
        "# Flask web application of image classifier by pretrained VGG16"
      ]
    },
    {
      "cell_type": "code",
      "metadata": {
        "id": "MZYnrKaMO_M_",
        "colab_type": "code",
        "outputId": "879f0dd0-ddb9-4157-bd5e-7113b343ff0b",
        "colab": {
          "base_uri": "https://localhost:8080/",
          "height": 238
        }
      },
      "source": [
        "!wget https://bin.equinox.io/c/4VmDzA7iaHb/ngrok-stable-linux-amd64.zip\n",
        "!unzip ngrok-stable-linux-amd64.zip"
      ],
      "execution_count": 1,
      "outputs": [
        {
          "output_type": "stream",
          "text": [
            "--2019-08-04 13:57:32--  https://bin.equinox.io/c/4VmDzA7iaHb/ngrok-stable-linux-amd64.zip\n",
            "Resolving bin.equinox.io (bin.equinox.io)... 52.203.102.189, 52.21.103.149, 52.86.186.182, ...\n",
            "Connecting to bin.equinox.io (bin.equinox.io)|52.203.102.189|:443... connected.\n",
            "HTTP request sent, awaiting response... 200 OK\n",
            "Length: 13607069 (13M) [application/octet-stream]\n",
            "Saving to: ‘ngrok-stable-linux-amd64.zip’\n",
            "\n",
            "ngrok-stable-linux- 100%[===================>]  12.98M  38.8MB/s    in 0.3s    \n",
            "\n",
            "2019-08-04 13:57:33 (38.8 MB/s) - ‘ngrok-stable-linux-amd64.zip’ saved [13607069/13607069]\n",
            "\n",
            "Archive:  ngrok-stable-linux-amd64.zip\n",
            "  inflating: ngrok                   \n"
          ],
          "name": "stdout"
        }
      ]
    },
    {
      "cell_type": "code",
      "metadata": {
        "id": "EdBubCOZPbOd",
        "colab_type": "code",
        "colab": {}
      },
      "source": [
        "from flask import Flask, render_template, send_from_directory, request, redirect, url_for\n",
        "\n",
        "import chainer\n",
        "import chainer.functions as F\n",
        "import chainer.links as L\n",
        "from chainer import Variable\n",
        "from chainer.backends import cuda\n",
        "\n",
        "import numpy as np\n",
        "import pandas as pd\n",
        "import cupy as cp\n",
        "\n",
        "import os, sys\n",
        "import pprint\n",
        "import time\n",
        "import urllib.error\n",
        "import urllib.request\n",
        "from PIL import Image\n",
        "import io\n",
        "import random, string\n",
        "\n"
      ],
      "execution_count": 0,
      "outputs": []
    },
    {
      "cell_type": "code",
      "metadata": {
        "id": "YOU_KiIoP_vk",
        "colab_type": "code",
        "colab": {}
      },
      "source": [
        "def download_file(url, dst_path):\n",
        "    try:\n",
        "        with urllib.request.urlopen(url) as web_file:\n",
        "            data = web_file.read()\n",
        "            with open(dst_path, mode='wb') as local_file:\n",
        "                local_file.write(data)\n",
        "    except urllib.error.URLError as e:\n",
        "        print(e)"
      ],
      "execution_count": 0,
      "outputs": []
    },
    {
      "cell_type": "code",
      "metadata": {
        "id": "Ej6KLXgXQb80",
        "colab_type": "code",
        "colab": {}
      },
      "source": [
        "# カテゴリーのリストを取得\n",
        "download_file( \"https://gist.githubusercontent.com/yrevar/942d3a0ac09ec9e5eb3a/raw/238f720ff059c1f82f368259d1ca4ffa5dd8f9f5/imagenet1000_clsidx_to_labels.txt\", \"category.txt\")\n",
        "\n",
        "category={}\n",
        "\n",
        "def extract_line(line):\n",
        "    line =line.replace(\"{\", \"\")\n",
        "    line=line.replace(\"\\}\", \"\")\n",
        "    line=line.replace(\"\\'\", \"\")\n",
        "    line=line.replace(\"\\n\", \"\")\n",
        "    idx, name = line.split(\":\")\n",
        "    return idx, name[:-1]\n",
        "\n",
        "with open(\"category.txt\", \"r\") as f :\n",
        "    lili= f.readlines() \n",
        "\n",
        "\n",
        "for li in lili:\n",
        "    idx, name = extract_line(li)\n",
        "    category[int(idx)]=name"
      ],
      "execution_count": 0,
      "outputs": []
    },
    {
      "cell_type": "code",
      "metadata": {
        "id": "9OGI47GxIy8j",
        "colab_type": "code",
        "colab": {}
      },
      "source": [
        "def randomname(n):\n",
        "    randlst = [random.choice(string.ascii_letters + string.digits) for i in range(n)]\n",
        "    return ''.join(randlst)"
      ],
      "execution_count": 0,
      "outputs": []
    },
    {
      "cell_type": "code",
      "metadata": {
        "id": "HbpOSXOnPPa7",
        "colab_type": "code",
        "colab": {}
      },
      "source": [
        "html = \"\"\"\n",
        "\n",
        "<!DOCTYPE html>\n",
        "<html>\n",
        "<head>\n",
        "<meta charset=\"utf-8\" />\n",
        "</head>\n",
        "<body>\n",
        "\n",
        "<form action=\"/post\" method=\"post\" enctype=\"multipart/form-data\">\n",
        "    <p><input type=\"file\" name=\"uploadFile\"/></p>\n",
        "    <p><input type=\"submit\" value=\"send\"/></p>\n",
        "</form>\n",
        "\n",
        "{% if ulr_Image %}\n",
        "\n",
        "    <p>Image</p>\n",
        "    <p><img src=\"{{ ulr_Image }}\"></p>\n",
        "    <p>Result</p>\n",
        "    <p>{{ result_class }}</p>\n",
        "    <p>{{ result_score }}</p>\n",
        "\n",
        "{% endif %}\n",
        "\n",
        "</body>\n",
        "</html>\n",
        "\n",
        "\"\"\""
      ],
      "execution_count": 0,
      "outputs": []
    },
    {
      "cell_type": "code",
      "metadata": {
        "id": "gv8tboM8PC86",
        "colab_type": "code",
        "colab": {}
      },
      "source": [
        "#Saving html file\n",
        "if not os.path.isdir( \"templates\" ):\n",
        "    os.makedirs( \"templates\" )\n",
        "with open(\"templates/index.html\", mode='w') as f:\n",
        "    f.write(html)\n",
        "    \n",
        "#Making tmp folder to use temporarily stored\n",
        "if not os.path.isdir( \"tmp\" ):\n",
        "    os.makedirs( \"tmp\" )"
      ],
      "execution_count": 0,
      "outputs": []
    },
    {
      "cell_type": "code",
      "metadata": {
        "id": "sV6OxpZgPZW9",
        "colab_type": "code",
        "outputId": "68ead744-3ffa-458f-8f91-79742539589d",
        "colab": {
          "base_uri": "https://localhost:8080/",
          "height": 51
        }
      },
      "source": [
        "model =  L.VGG16Layers()\n",
        "model.to_gpu(0)\n",
        "model.disable_update()"
      ],
      "execution_count": 8,
      "outputs": [
        {
          "output_type": "stream",
          "text": [
            "Downloading from https://www.robots.ox.ac.uk/%7Evgg/software/very_deep/caffe/VGG_ILSVRC_16_layers.caffemodel...\n",
            "Now loading caffemodel (usually it may take few minutes)\n"
          ],
          "name": "stderr"
        }
      ]
    },
    {
      "cell_type": "code",
      "metadata": {
        "id": "IQUAO1lQ9kLD",
        "colab_type": "code",
        "outputId": "984c4955-58f5-4286-8ae9-c68ef1eed11f",
        "colab": {
          "base_uri": "https://localhost:8080/",
          "height": 51
        }
      },
      "source": [
        "# テスト用\n",
        "url = \"https://upload.wikimedia.org/wikipedia/commons/5/5c/Gro%C3%9Fer_Schweizer_Sennenhund.jpg\"\n",
        "\n",
        "data_path =  \"tmp/\" + url.split(\"/\")[-1]\n",
        "print(data_path)\n",
        "download_file( url, data_path)\n",
        "\n",
        "def prediction_from_path(path):\n",
        "    img = Image.open(path)\n",
        "    X_img =  L.model.vision.vgg.prepare(img)\n",
        "\n",
        "    X_img = X_img[np.newaxis]\n",
        "\n",
        "    x_cp = cp.asarray(X_img)\n",
        "    x_cp = cuda.to_gpu(x_cp)\n",
        "\n",
        "    result = model(x_cp)\n",
        "\n",
        "    idx = int(F.argmax((result['prob']), axis=1).data)\n",
        "    label = category[idx]\n",
        "    prob = float(F.max(result['prob'], axis=1).data)\n",
        "    return label, prob\n",
        "    \n",
        "print(prediction_from_path(data_path))\n",
        "\n",
        "    "
      ],
      "execution_count": 9,
      "outputs": [
        {
          "output_type": "stream",
          "text": [
            "tmp/Gro%C3%9Fer_Schweizer_Sennenhund.jpg\n",
            "(' Greater Swiss Mountain dog', 0.8891767263412476)\n"
          ],
          "name": "stdout"
        }
      ]
    },
    {
      "cell_type": "code",
      "metadata": {
        "id": "hqbfvEw1ZdXW",
        "colab_type": "code",
        "colab": {}
      },
      "source": [
        "app = Flask(__name__)\n",
        "\n",
        "@app.route(\"/\")\n",
        "def index():\n",
        "    return render_template( \"index.html\" )\n",
        "\n",
        "@app.route('/post', methods=['POST'])\n",
        "def post():\n",
        "    try:\n",
        "        uploadFile = request.files['uploadFile']\n",
        "    except:\n",
        "        return redirect(url_for('index'))\n",
        "    \n",
        "    file_name= fileName = randomname(24) + \".jpg\"\n",
        "\n",
        "    uploadFile.save(\"tmp/\" + file_name)\n",
        "\n",
        "    img = Image.open(\"tmp/\" + file_name)\n",
        "\n",
        "    url_image = \"tmp/\" + file_name\n",
        "    label, prob = prediction_from_path(url_image)\n",
        "    \n",
        "    \n",
        "    print('predicted_id:', label, \", prob:\", prob)\n",
        "    \n",
        "    result_class = \"label: \" + label\n",
        "    result_score = \"Score: \" + str(prob)\n",
        "\n",
        "    return render_template( \"index.html\",\n",
        "                                        ulr_Image = url_image,\n",
        "                                        result_class = result_class,\n",
        "                                        result_score = result_score)\n",
        "    \n",
        "@app.route('/tmp/<filename>')\n",
        "def uploaded_file(filename):\n",
        "    return send_from_directory(\"./tmp\", filename)\n",
        "    \n"
      ],
      "execution_count": 0,
      "outputs": []
    },
    {
      "cell_type": "code",
      "metadata": {
        "id": "WSbOFPy8b4vs",
        "colab_type": "code",
        "outputId": "133578f7-840f-4d90-86cd-2a5ef22f4dae",
        "colab": {
          "base_uri": "https://localhost:8080/",
          "height": 238
        }
      },
      "source": [
        "!cd ~\n",
        "! ls\n",
        "get_ipython().system_raw('./ngrok http 6006 &')\n",
        "! curl -s http://localhost:4040/api/tunnels | python3 -c \\\n",
        "    \"import sys, json; print(json.load(sys.stdin)['tunnels'][0]['public_url'])\"\n",
        "\n",
        "\n",
        "if __name__ == '__main__':\n",
        "    app.run(port=6006)"
      ],
      "execution_count": 11,
      "outputs": [
        {
          "output_type": "stream",
          "text": [
            "category.txt  ngrok  ngrok-stable-linux-amd64.zip  sample_data\ttemplates  tmp\n",
            "http://45777d2d.ngrok.io\n",
            " * Serving Flask app \"__main__\" (lazy loading)\n",
            " * Environment: production\n",
            "   WARNING: This is a development server. Do not use it in a production deployment.\n",
            "   Use a production WSGI server instead.\n",
            " * Debug mode: off\n"
          ],
          "name": "stdout"
        },
        {
          "output_type": "stream",
          "text": [
            " * Running on http://127.0.0.1:6006/ (Press CTRL+C to quit)\n",
            "127.0.0.1 - - [04/Aug/2019 13:59:09] \"\u001b[37mGET / HTTP/1.1\u001b[0m\" 200 -\n",
            "127.0.0.1 - - [04/Aug/2019 13:59:10] \"\u001b[33mGET /favicon.ico HTTP/1.1\u001b[0m\" 404 -\n",
            "127.0.0.1 - - [04/Aug/2019 13:59:31] \"\u001b[37mPOST /post HTTP/1.1\u001b[0m\" 200 -\n"
          ],
          "name": "stderr"
        },
        {
          "output_type": "stream",
          "text": [
            "predicted_id:  Greater Swiss Mountain dog , prob: 0.9902670979499817\n"
          ],
          "name": "stdout"
        },
        {
          "output_type": "stream",
          "text": [
            "127.0.0.1 - - [04/Aug/2019 13:59:31] \"\u001b[37mGET /tmp/elCL3cGeLzWpOkptUDMoAvJo.jpg HTTP/1.1\u001b[0m\" 200 -\n"
          ],
          "name": "stderr"
        }
      ]
    },
    {
      "cell_type": "code",
      "metadata": {
        "id": "fXFuCy3pb51h",
        "colab_type": "code",
        "colab": {}
      },
      "source": [
        ""
      ],
      "execution_count": 0,
      "outputs": []
    }
  ]
}